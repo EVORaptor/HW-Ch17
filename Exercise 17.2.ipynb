{
 "cells": [
  {
   "cell_type": "code",
   "execution_count": 1,
   "id": "2e56bef3",
   "metadata": {},
   "outputs": [],
   "source": [
    "import pandas as pd\n",
    "import sqlite3"
   ]
  },
  {
   "cell_type": "code",
   "execution_count": 3,
   "id": "8e7c2ea4",
   "metadata": {},
   "outputs": [],
   "source": [
    "connection=sqlite3.connect(\"books.db\")\n",
    "cursor=connection.cursor()"
   ]
  },
  {
   "cell_type": "code",
   "execution_count": 11,
   "id": "17086c03",
   "metadata": {},
   "outputs": [
    {
     "name": "stdout",
     "output_type": "stream",
     "text": [
      "Intro to Python for CS and DS\n",
      "Internet & WWW How to Program\n",
      "Java How to Program\n",
      "C How to Program\n",
      "Visual Basic 2012 How to Program\n",
      "Visual C# How to Program\n",
      "Visual C++ How to Program\n",
      "C++ How to Program\n",
      "Android How to Program\n",
      "Android 6 for Programmers\n"
     ]
    }
   ],
   "source": [
    "titles=cursor.execute(\"\"\"SELECT title FROM titles\"\"\").fetchall()\n",
    "for title in titles: print(*title)"
   ]
  },
  {
   "cell_type": "code",
   "execution_count": null,
   "id": "1c52acad",
   "metadata": {},
   "outputs": [],
   "source": []
  }
 ],
 "metadata": {
  "kernelspec": {
   "display_name": "Python 3 (ipykernel)",
   "language": "python",
   "name": "python3"
  },
  "language_info": {
   "codemirror_mode": {
    "name": "ipython",
    "version": 3
   },
   "file_extension": ".py",
   "mimetype": "text/x-python",
   "name": "python",
   "nbconvert_exporter": "python",
   "pygments_lexer": "ipython3",
   "version": "3.10.7"
  }
 },
 "nbformat": 4,
 "nbformat_minor": 5
}
